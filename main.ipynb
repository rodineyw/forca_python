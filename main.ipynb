{
 "cells": [
  {
   "cell_type": "code",
   "execution_count": null,
   "metadata": {},
   "outputs": [],
   "source": [
    "import random\n",
    "\n",
    "# Lista de palavras para o jogo\n",
    "palavras = ['python', 'programacao', 'programador', 'jogo', 'divertido', 'desafio']\n",
    "\n",
    "# Função para escolger palavra aleatória da lista\n",
    "def escolher_palavra():\n",
    " return random.choice(palavras)\n",
    "\n",
    "#print(escolher_palavra())"
   ]
  },
  {
   "cell_type": "code",
   "execution_count": null,
   "metadata": {},
   "outputs": [],
   "source": [
    "# Função para exibir a palavra oculta com letras não adivinhadas como '_' \n",
    "def exibir_palavra_oculta(palavra, letras_adivinhadas):\n",
    " palavra_oculta = \"\"\n",
    " for letra in palavra:\n",
    "  if letra in letras_adivinhadas:\n",
    "   palavra_oculta += letra\n",
    "  else:\n",
    "   palavra_oculta += \"_\"\n",
    " return palavra_oculta  "
   ]
  },
  {
   "cell_type": "code",
   "execution_count": null,
   "metadata": {},
   "outputs": [],
   "source": [
    "#  Função principal do jogo\n",
    "def jogo_da_forca():\n",
    " palavra_secreta = escolher_palavra()\n",
    " letras_adivinhadas = []\n",
    " tentativas = 6 \n",
    "\n",
    " print('Bem-vindo ao jogo da Forca!')\n",
    "\n",
    " while tentativas > 0:\n",
    "  palavra_oculta = exibir_palavra_oculta(palavra_secreta, letras_adivinhadas)\n",
    "  print('\\nPalavra: ' + palavra_oculta)\n",
    "  letra = input('Digite uma letra: ').lower()\n",
    "\n",
    "  if len(letra) == 1 and letra.isalpha():\n",
    "   if letra in letras_adivinhadas:\n",
    "    print('Você já tentou estrá Letra!')\n",
    "   elif letra in palavra_secreta:\n",
    "    letras_adivinhadas.append(letra)\n",
    "    if palavra_oculta == palavra_secreta:\n",
    "     print('Parabéns! Você venceu!')\n",
    "     break\n",
    "\n",
    "   else:\n",
    "    letras_adivinhadas.append(letra)\n",
    "    tentativas -= 1\n",
    "    print(f\"Letra '{letra}' não está na palavra. Tentivas restantes: {tentativas}\")\n",
    "\n",
    "  else: \n",
    "   print(\"Por favor, insira uma letra válida.\")\n",
    "\n",
    " if tentativas == 0:\n",
    "  print(f\"\\nFim de Jogo! A palavra era '{palavra_secreta}'.\")\n",
    "\n",
    "if __name__ == \"__main__\":\n",
    " jogo_da_forca()"
   ]
  }
 ],
 "metadata": {
  "kernelspec": {
   "display_name": "Python 3",
   "language": "python",
   "name": "python3"
  },
  "language_info": {
   "codemirror_mode": {
    "name": "ipython",
    "version": 3
   },
   "file_extension": ".py",
   "mimetype": "text/x-python",
   "name": "python",
   "nbconvert_exporter": "python",
   "pygments_lexer": "ipython3",
   "version": "3.11.5"
  },
  "orig_nbformat": 4
 },
 "nbformat": 4,
 "nbformat_minor": 2
}
